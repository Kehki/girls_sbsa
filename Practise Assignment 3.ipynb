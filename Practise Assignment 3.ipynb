{
 "cells": [
  {
   "cell_type": "markdown",
   "metadata": {},
   "source": [
    "# Q1:"
   ]
  },
  {
   "cell_type": "markdown",
   "metadata": {},
   "source": [
    "Think of at least three kinds of your favorite pizza. Store these pizza names in a list, and then use a for loop to print the name of each pizza."
   ]
  },
  {
   "cell_type": "code",
   "execution_count": 1,
   "metadata": {},
   "outputs": [],
   "source": [
    "pizza = [\"pepporoni\", \"fajita\", \"sicillan\"]"
   ]
  },
  {
   "cell_type": "code",
   "execution_count": 2,
   "metadata": {},
   "outputs": [
    {
     "name": "stdout",
     "output_type": "stream",
     "text": [
      "pepporoni\n",
      "fajita\n",
      "sicillan\n"
     ]
    }
   ],
   "source": [
    "for i in pizza:\n",
    "    print(i, end='\\n')"
   ]
  },
  {
   "cell_type": "markdown",
   "metadata": {},
   "source": [
    "# Q2"
   ]
  },
  {
   "cell_type": "markdown",
   "metadata": {},
   "source": [
    "Start with your last question , Modify your for loop to print a sentence using the name of the pizza\n",
    "instead of printing just the name of the pizza. For each pizza you should\n",
    "have one line of output containing a simple statement like I like pepperoni\n",
    "pizza."
   ]
  },
  {
   "cell_type": "code",
   "execution_count": 3,
   "metadata": {},
   "outputs": [],
   "source": [
    "pizza = [\"pepporoni\", \"fajita\", \"sicilian\"]"
   ]
  },
  {
   "cell_type": "code",
   "execution_count": 4,
   "metadata": {},
   "outputs": [
    {
     "name": "stdout",
     "output_type": "stream",
     "text": [
      "I like  pepporoni\n",
      "I love  fajita\n",
      "I don't like  sicilian\n"
     ]
    }
   ],
   "source": [
    "for x in range (len(pizza)):\n",
    "    if x==0:\n",
    "        print(\"I like \", pizza[x])\n",
    "    if x == 1:\n",
    "        print(\"I love \", pizza[x])\n",
    "    if x == 2:\n",
    "        print(\"I don't like \", pizza[x])    \n",
    "        "
   ]
  },
  {
   "cell_type": "code",
   "execution_count": 5,
   "metadata": {},
   "outputs": [
    {
     "name": "stdout",
     "output_type": "stream",
     "text": [
      "I like pepporoni pizza\n",
      "I love fajita pizza\n",
      "I don't like sicilian pizza\n"
     ]
    }
   ],
   "source": [
    "for x in pizza:\n",
    "    if x==\"pepporoni\":\n",
    "        print(f\"I like {x} pizza\")\n",
    "    if x == \"fajita\":\n",
    "        print(f\"I love {x} pizza\")\n",
    "    if x == \"sicilian\":\n",
    "        print(f\"I don't like {x} pizza\")\n"
   ]
  },
  {
   "cell_type": "code",
   "execution_count": 6,
   "metadata": {},
   "outputs": [
    {
     "name": "stdout",
     "output_type": "stream",
     "text": [
      "I like pepporoni pizza\n",
      "I like fajita pizza\n",
      "I like sicilian pizza\n"
     ]
    }
   ],
   "source": [
    "for i in pizza:\n",
    "    print(f\"I like {i} pizza\")"
   ]
  },
  {
   "cell_type": "markdown",
   "metadata": {},
   "source": [
    "# Q3:"
   ]
  },
  {
   "cell_type": "markdown",
   "metadata": {},
   "source": [
    "Use a for loop to print the numbers from 1 to 20,\n",
    "inclusive."
   ]
  },
  {
   "cell_type": "code",
   "execution_count": 7,
   "metadata": {},
   "outputs": [
    {
     "name": "stdout",
     "output_type": "stream",
     "text": [
      "1\n",
      "2\n",
      "3\n",
      "4\n",
      "5\n",
      "6\n",
      "7\n",
      "8\n",
      "9\n",
      "10\n",
      "11\n",
      "12\n",
      "13\n",
      "14\n",
      "15\n",
      "16\n",
      "17\n",
      "18\n",
      "19\n",
      "20\n"
     ]
    }
   ],
   "source": [
    "for num in range(1,21):\n",
    "    print(num)"
   ]
  },
  {
   "cell_type": "markdown",
   "metadata": {},
   "source": [
    "# Q4:"
   ]
  },
  {
   "cell_type": "markdown",
   "metadata": {},
   "source": [
    "Use the third argument of the range() function to make a list\n",
    "of the odd numbers from 1 to 20. Use a for loop to print each number."
   ]
  },
  {
   "cell_type": "code",
   "execution_count": 8,
   "metadata": {},
   "outputs": [
    {
     "name": "stdout",
     "output_type": "stream",
     "text": [
      "1   3   5   7   9   11   13   15   17   19   "
     ]
    }
   ],
   "source": [
    "for num in range(1,20,2):\n",
    "    print(num,end='   ')"
   ]
  },
  {
   "cell_type": "markdown",
   "metadata": {},
   "source": [
    "# Q5:"
   ]
  },
  {
   "cell_type": "markdown",
   "metadata": {},
   "source": [
    "Make a list of the multiples of 3 from 3 to 30. Use a for loop to\n",
    "print the numbers in your list."
   ]
  },
  {
   "cell_type": "code",
   "execution_count": 9,
   "metadata": {},
   "outputs": [
    {
     "name": "stdout",
     "output_type": "stream",
     "text": [
      "3\n",
      "6\n",
      "9\n",
      "12\n",
      "15\n",
      "18\n",
      "21\n",
      "24\n",
      "27\n",
      "30\n"
     ]
    }
   ],
   "source": [
    "for num in range(3,31,3):\n",
    "    print(num)      "
   ]
  },
  {
   "cell_type": "code",
   "execution_count": 10,
   "metadata": {},
   "outputs": [
    {
     "name": "stdout",
     "output_type": "stream",
     "text": [
      "3 6 9 12 15 18 21 24 27 30 "
     ]
    }
   ],
   "source": [
    "multiples_of_3=[]\n",
    "for num in range(3,31,3):\n",
    "    multiples_of_3.append(num)\n",
    "    print(num, end=\" \")\n",
    "    "
   ]
  },
  {
   "cell_type": "code",
   "execution_count": 11,
   "metadata": {},
   "outputs": [
    {
     "name": "stdout",
     "output_type": "stream",
     "text": [
      "3 6 9 12 15 18 21 24 27 30 \n",
      "[3, 6, 9, 12, 15, 18, 21, 24, 27, 30]\n"
     ]
    }
   ],
   "source": [
    "multiples_of_3=[]\n",
    "for num in range(3,31,3):\n",
    "    multiples_of_3.append(num)\n",
    "    \n",
    "for i in multiples_of_3:\n",
    "    print(i, end=' ')\n",
    "print()\n",
    "print(multiples_of_3) # printing list"
   ]
  },
  {
   "cell_type": "markdown",
   "metadata": {},
   "source": [
    "# Q6:"
   ]
  },
  {
   "cell_type": "markdown",
   "metadata": {},
   "source": [
    "A number raised to the third power is called a cube. For example,\n",
    "the cube of 2 is written as 2**3 in Python. Make a list of the first 10 cubes (that\n",
    "is, the cube of each integer from 1 through 10), and use a for loop to print out\n",
    "the value of each cube"
   ]
  },
  {
   "cell_type": "code",
   "execution_count": 12,
   "metadata": {},
   "outputs": [
    {
     "name": "stdout",
     "output_type": "stream",
     "text": [
      "num    cube\n",
      "1       1\n",
      "2       8\n",
      "3       27\n",
      "4       64\n",
      "5       125\n",
      "6       216\n",
      "7       343\n",
      "8       512\n",
      "9       729\n",
      "10       1000\n"
     ]
    }
   ],
   "source": [
    "print('num',\"  \",'cube')\n",
    "for a in range(1,11):\n",
    "    cube=a**3\n",
    "    print(a,\"     \",cube)"
   ]
  },
  {
   "cell_type": "markdown",
   "metadata": {},
   "source": [
    "# Q7:"
   ]
  },
  {
   "cell_type": "markdown",
   "metadata": {},
   "source": [
    "###### Make a python program that conatains your nine favourite dishes in a list called foods.\n",
    "\n",
    "###### Print the message, The first three items in the list are:. \n",
    "###### Then use a slice to print the first three items from that program’s list.\n",
    "\n",
    "###### Print the message, Three items from the middle of the list are:\n",
    "###### Use a slice to print three items from the middle of the list.\n",
    "\n",
    "###### Print the message, The last three items in the list are:\n",
    "###### Use a slice to print the last three items in the list."
   ]
  },
  {
   "cell_type": "code",
   "execution_count": 13,
   "metadata": {},
   "outputs": [],
   "source": [
    "dishes=[\"dish1\",\"dish2\",\"dish3\",\"dish4\",\"dish5\",\"dish6\",\"dish7\",\"dish8\",\"dish9\"]"
   ]
  },
  {
   "cell_type": "code",
   "execution_count": 14,
   "metadata": {},
   "outputs": [
    {
     "name": "stdout",
     "output_type": "stream",
     "text": [
      "the first three items in the list are [['dish1', 'dish2', 'dish3']]\n",
      "the middle three items in the list are [['dish4', 'dish5', 'dish6']]\n",
      "the last three items in the list are [['dish9', 'dish8', 'dish7']]\n"
     ]
    }
   ],
   "source": [
    "first_three_items = [dishes[0:3]]\n",
    "middle_three_items = [dishes[3:6]]\n",
    "last_three_items = [dishes[-1:-4:-1]]\n",
    "\n",
    "print(f\"the first three items in the list are {first_three_items}\")\n",
    "print(f\"the middle three items in the list are {middle_three_items}\")\n",
    "print(f\"the last three items in the list are {last_three_items}\")    "
   ]
  },
  {
   "cell_type": "markdown",
   "metadata": {},
   "source": [
    "# Q8:"
   ]
  },
  {
   "cell_type": "markdown",
   "metadata": {},
   "source": [
    "### Start with your program from your last Question8.\n",
    "###### Make a copy of the list of foods, and call it friend_foods.\n",
    "###### Then, do the following:\n",
    "######    Add a new dish to the original list.\n",
    "######    Add a different dish to the list friend_foodss.\n",
    "######    Prove that you have two separate lists. \n",
    "###### Print the message, My favorite pizzas are: and then use a for loop to print the first list. \n",
    "###### Print the message,\n",
    "###### My friend’s favorite foods are:, and then use a for loop to print the second list.\n",
    "    \n",
    "##### NOTE: Make sure each new dish is stored in the appropriate list."
   ]
  },
  {
   "cell_type": "code",
   "execution_count": 15,
   "metadata": {},
   "outputs": [],
   "source": [
    "# the list in Q7 doesnot contain pizza's name."
   ]
  },
  {
   "cell_type": "code",
   "execution_count": 16,
   "metadata": {},
   "outputs": [
    {
     "name": "stdout",
     "output_type": "stream",
     "text": [
      "['dish1', 'dish2', 'dish3', 'dish4', 'dish5', 'dish6', 'dish7', 'dish8', 'dish9']\n"
     ]
    }
   ],
   "source": [
    "dishes=[\"dish1\",\"dish2\",\"dish3\",\"dish4\",\"dish5\",\"dish6\",\"dish7\",\"dish8\",\"dish9\"]\n",
    "friend_foods=dishes.copy()\n",
    "dishes\n",
    "print(friend_foods)"
   ]
  },
  {
   "cell_type": "code",
   "execution_count": 17,
   "metadata": {},
   "outputs": [
    {
     "name": "stdout",
     "output_type": "stream",
     "text": [
      "My friend's favorite foods are;dish1,dish2,dish3,dish4,dish5,dish6,dish7,dish8,dish9,dish99,\n",
      "My favorite foods are;dish1,dish2,dish3,dish4,dish5,dish6,dish7,dish8,dish9,dish10,"
     ]
    }
   ],
   "source": [
    "\n",
    "dishes=[\"dish1\",\"dish2\",\"dish3\",\"dish4\",\"dish5\",\"dish6\",\"dish7\",\"dish8\",\"dish9\"]\n",
    "friend_foods=dishes.copy()\n",
    "\n",
    "dishes.append(\"dish10\")\n",
    "friend_foods.append(\"dish99\")\n",
    "\n",
    "print(\"My friend's favorite foods are\",end =\";\")\n",
    "for i in friend_foods:\n",
    "    print(i,end =\",\")\n",
    "\n",
    "print()\n",
    "print(\"My favorite foods are\",end =\";\")\n",
    "for i in dishes:\n",
    "    print(i,end =\",\")\n"
   ]
  },
  {
   "cell_type": "markdown",
   "metadata": {},
   "source": [
    "# Q9:"
   ]
  },
  {
   "cell_type": "markdown",
   "metadata": {},
   "source": [
    "Take a user input from console line.Store it in a variable called Alien_color.\n",
    "\n",
    "If the alien’s color is red, print a statement that the player just earned 5 points for shooting the alien.\n",
    "\n",
    "If the alien’s color isn’t green, print a statement that the player just earned 10 points.\n",
    "\n",
    "If the alien's color isn't red or green , print a statment :, Alien is no more....."
   ]
  },
  {
   "cell_type": "code",
   "execution_count": 18,
   "metadata": {},
   "outputs": [
    {
     "name": "stdout",
     "output_type": "stream",
     "text": [
      "Enter alien color : blue\n",
      "Alien is no more ...\n"
     ]
    }
   ],
   "source": [
    "alien_color=input(\"Enter alien color : \")\n",
    "\n",
    "if alien_color == \"red\":\n",
    "    print(\"player just earned 5 points for shooting the alien.\")\n",
    "elif alien_color == \"green\":\n",
    "    print(\"player just earned 10 points for shooting the alien.\")\n",
    "else:\n",
    "    print(\"Alien is no more ...\")\n",
    "\n",
    "    "
   ]
  },
  {
   "cell_type": "markdown",
   "metadata": {},
   "source": [
    "# Q10:"
   ]
  },
  {
   "cell_type": "markdown",
   "metadata": {},
   "source": [
    "Write an if-elif-else chain that determines a person’s\n",
    "stage of life. Set a value for the variable age, and then:\n",
    "    \n",
    "•\t If the person is less than 2 years old, print a message that the person is a baby.\n",
    "\n",
    "•\t If the person is at least 2 years old but less than 4, print a message that the person is a toddler.\n",
    "\n",
    "•\t If the person is at least 4 years old but less than 13, print a message that the person is a kid.\n",
    "\n",
    "•\t If the person is at least 13 years old but less than 20, print a message that the person is a teenager.\n",
    "\n",
    "•\t If the person is at least 20 years old but less than 65, print a message that the person is an adult.\n",
    "\n",
    "•\t If the person is age 65 or older, print a message that the person is an elder."
   ]
  },
  {
   "cell_type": "code",
   "execution_count": 19,
   "metadata": {},
   "outputs": [
    {
     "name": "stdout",
     "output_type": "stream",
     "text": [
      "Enter the age of a person: 1\n",
      "Person is a baby.\n"
     ]
    }
   ],
   "source": [
    "age = float(input(\"Enter the age of a person: \"))\n",
    "if age >= 65:\n",
    "    print(\"Person is an elder.\")\n",
    "elif age >=20:\n",
    "    print(\"Person is an adult.\")\n",
    "elif age >=13:\n",
    "    print(\"Person is a teenager.\")\n",
    "elif age >=4:\n",
    "    print(\"Person is a kid.\")\n",
    "elif age >= 2:\n",
    "    print(\"Person is a toddler.\")\n",
    "else:\n",
    "    print(\"Person is a baby.\")"
   ]
  },
  {
   "cell_type": "markdown",
   "metadata": {},
   "source": [
    "# Q11:"
   ]
  },
  {
   "cell_type": "markdown",
   "metadata": {},
   "source": [
    "Do the following to create a program that simulates how websites ensure that everyone has a unique username.\n",
    "\n",
    "•\t Make a list of five or more usernames called current_users.\n",
    "\n",
    "•\t Make another list of five usernames called new_users. \n",
    "Make sure one or two of the new usernames are also in the current_users list.\n",
    "\n",
    "•\t Loop through the new_users list to see if each new username has already been used. \n",
    "If it has, print a message that the person will need to enter a new username. \n",
    "If a username has not been used, print a message saying that the username is available.\n",
    "\n",
    "•\t Make sure your comparison is case insensitive. If 'John' has been used, 'JOHN' should not be accepted."
   ]
  },
  {
   "cell_type": "code",
   "execution_count": 20,
   "metadata": {},
   "outputs": [],
   "source": [
    "current_users = [\"saad\",\"ASAD\",\"hina\",\"hira\",\"hiba\"]\n",
    "new_users = [\"khan\",\"Shan\",\"saad\",\"HIRA\",\"ahad\"]"
   ]
  },
  {
   "cell_type": "code",
   "execution_count": 21,
   "metadata": {},
   "outputs": [
    {
     "name": "stdout",
     "output_type": "stream",
     "text": [
      "khan Username is available\n",
      "Shan Username is available\n",
      "saad not available, Enter a new user name\n",
      "HIRA not available, Enter a new user name\n",
      "ahad Username is available\n"
     ]
    }
   ],
   "source": [
    "for j in new_users:\n",
    "    if j.upper() in current_users or j.lower() in current_users or j.title() in current_users:\n",
    "        print(j,end=\" \")\n",
    "        print(\"not available, Enter a new user name\")\n",
    "    else:\n",
    "        print(j,end=\" \")\n",
    "        print(\"Username is available\")            \n",
    "    \n",
    "            "
   ]
  },
  {
   "cell_type": "markdown",
   "metadata": {},
   "source": [
    "# Q12:"
   ]
  },
  {
   "cell_type": "markdown",
   "metadata": {},
   "source": [
    "Use a dictionary to store information about a person you know.\n",
    "Store their first name, last name, age, and the city in which they live. \n",
    "You should have keys such as first_name, last_name, age, and city. \n",
    "Print each piece of information stored in your dictionary"
   ]
  },
  {
   "cell_type": "code",
   "execution_count": 22,
   "metadata": {},
   "outputs": [
    {
     "name": "stdout",
     "output_type": "stream",
     "text": [
      "{'firstName': 'sana', 'lastName': 'Ahmed', 'age': 25, 'City': 'Karachi'}\n"
     ]
    }
   ],
   "source": [
    "person_info = {\"firstName\":\"sana\",\n",
    "               \"lastName\":\"Ahmed\",\n",
    "               \"age\":25,\"City\":\"Karachi\",\n",
    "              }\n",
    "print(person_info)"
   ]
  },
  {
   "cell_type": "code",
   "execution_count": 23,
   "metadata": {},
   "outputs": [
    {
     "name": "stdout",
     "output_type": "stream",
     "text": [
      "firstName sana\n",
      "lastName Ahmed\n",
      "age 25\n",
      "City Karachi\n"
     ]
    }
   ],
   "source": [
    "for x,y in person_info.items():\n",
    "    print(x,y)\n"
   ]
  },
  {
   "cell_type": "markdown",
   "metadata": {},
   "source": [
    "# Q13:"
   ]
  },
  {
   "cell_type": "markdown",
   "metadata": {},
   "source": [
    "Starts with your last question 12 , loop through the dictionary’s keys and values.\n",
    "When you’re sure that your loop works, add five more Python terms to your\n",
    "dictionary . When you run your program again, these new words and meanings\n",
    "should automatically be included in the output."
   ]
  },
  {
   "cell_type": "code",
   "execution_count": 24,
   "metadata": {},
   "outputs": [
    {
     "data": {
      "text/plain": [
       "{'firstName': 'sana', 'lastName': 'Ahmed', 'age': 25, 'City': 'Karachi'}"
      ]
     },
     "execution_count": 24,
     "metadata": {},
     "output_type": "execute_result"
    }
   ],
   "source": [
    "person_info = {\n",
    "    \"firstName\":\"sana\",\n",
    "    \"lastName\":\"Ahmed\",\n",
    "    \"age\":25,\n",
    "    \"City\":\"Karachi\",\n",
    "}\n",
    "person_info\n"
   ]
  },
  {
   "cell_type": "code",
   "execution_count": 25,
   "metadata": {},
   "outputs": [
    {
     "name": "stdout",
     "output_type": "stream",
     "text": [
      "firstName\n",
      "lastName\n",
      "age\n",
      "City\n"
     ]
    }
   ],
   "source": [
    "for i in person_info.keys():\n",
    "    print(i)"
   ]
  },
  {
   "cell_type": "code",
   "execution_count": 26,
   "metadata": {},
   "outputs": [
    {
     "name": "stdout",
     "output_type": "stream",
     "text": [
      "sana\n",
      "Ahmed\n",
      "25\n",
      "Karachi\n"
     ]
    }
   ],
   "source": [
    "for each_value in person_info.values():\n",
    "    print(each_value)"
   ]
  },
  {
   "cell_type": "code",
   "execution_count": 27,
   "metadata": {},
   "outputs": [
    {
     "name": "stdout",
     "output_type": "stream",
     "text": [
      "firstName sana\n",
      "lastName Ahmed\n",
      "age 25\n",
      "City Karachi\n"
     ]
    }
   ],
   "source": [
    "for x,y in person_info.items():\n",
    "    print(x,y)"
   ]
  },
  {
   "cell_type": "code",
   "execution_count": 28,
   "metadata": {},
   "outputs": [
    {
     "name": "stdout",
     "output_type": "stream",
     "text": [
      "FIRSTNAME sana\n",
      "LASTNAME Ahmed\n",
      "AGE 25\n",
      "CITY Karachi\n",
      "FUNCTION a series of statements which returns some value to a caller\n",
      "EXPRESSION a piece of syntax which can be evaluated to some value\n",
      "DICTIONARY an associative array,where arbitrary keys are mapped to values\n",
      "CLASS a template for creating user_defined objects\n",
      "ARGUMENT a value passed to a function when calling the function\n"
     ]
    }
   ],
   "source": [
    "person_info['function']='a series of statements which returns some value to a caller'\n",
    "person_info['expression']='a piece of syntax which can be evaluated to some value'\n",
    "person_info['dictionary']='an associative array,where arbitrary keys are mapped to values'\n",
    "person_info['class']='a template for creating user_defined objects'\n",
    "person_info['argument']='a value passed to a function when calling the function'\n",
    "for x,y in person_info.items():\n",
    "    print(x.upper(),y)"
   ]
  },
  {
   "cell_type": "markdown",
   "metadata": {},
   "source": [
    "# Q14:"
   ]
  },
  {
   "cell_type": "markdown",
   "metadata": {},
   "source": [
    "Make a dictionary containing three major rivers and the country\n",
    "each river runs through. One key-value pair might be 'nile': 'egypt'.\n",
    "    \n",
    "    \n",
    "•\t Use a loop to print a sentence about each river, such as The Nile runs\n",
    "through Egypt.\n",
    "\n",
    "NOTE: use upper case through keys and values."
   ]
  },
  {
   "cell_type": "code",
   "execution_count": 29,
   "metadata": {},
   "outputs": [
    {
     "data": {
      "text/plain": [
       "{'amazon': 'south america', 'nile': 'egypt', 'yangtze': 'china'}"
      ]
     },
     "execution_count": 29,
     "metadata": {},
     "output_type": "execute_result"
    }
   ],
   "source": [
    "rivers = {\n",
    "    'amazon':'south america',\n",
    "    'nile':'egypt',\n",
    "    'yangtze':'china',  \n",
    "}\n",
    "rivers"
   ]
  },
  {
   "cell_type": "code",
   "execution_count": 30,
   "metadata": {},
   "outputs": [
    {
     "name": "stdout",
     "output_type": "stream",
     "text": [
      "AMAZON runs through SOUTH AMERICA\n",
      "NILE runs through EGYPT\n",
      "YANGTZE runs through CHINA\n"
     ]
    }
   ],
   "source": [
    "for x,y in rivers.items():\n",
    "    print(f\"{x.upper()} runs through {y.upper()}\")\n",
    "    "
   ]
  },
  {
   "cell_type": "markdown",
   "metadata": {},
   "source": [
    "# Q15:"
   ]
  },
  {
   "cell_type": "markdown",
   "metadata": {},
   "source": [
    "Make several dictionaries, where the name of each dictionary is the\n",
    "name of a pet. In each dictionary, include the kind of animal and the owner’s\n",
    "name. Store these dictionaries in a list called pets. Next, loop through your list\n",
    "and as you do print everything you know about each pet."
   ]
  },
  {
   "cell_type": "code",
   "execution_count": 31,
   "metadata": {},
   "outputs": [
    {
     "name": "stdout",
     "output_type": "stream",
     "text": [
      "pet_name is charlie.\n",
      "animal is dog.\n",
      "owner is john.\n",
      "\n",
      "pet_name is toby.\n",
      "animal is cat.\n",
      "owner is kate.\n",
      "\n",
      "pet_name is oreo.\n",
      "animal is rabbit.\n",
      "owner is mark.\n",
      "\n"
     ]
    }
   ],
   "source": [
    "pets = [\n",
    "   {\n",
    "    'pet_name':'charlie',\n",
    "    'animal':'dog',\n",
    "    'owner':'john',\n",
    "    },\n",
    "    {\n",
    "    'pet_name':'toby',\n",
    "    'animal':'cat',\n",
    "    'owner':'kate',\n",
    "     },\n",
    "    {\n",
    "        'pet_name':'oreo',\n",
    "        'animal':'rabbit',\n",
    "        'owner':'mark',        \n",
    "    },\n",
    "    \n",
    "]\n",
    "\n",
    "for i in pets:\n",
    "    for j,k in i.items():\n",
    "        print(f\"{j} is {k}.\")\n",
    "    print(\"\")\n"
   ]
  },
  {
   "cell_type": "code",
   "execution_count": 32,
   "metadata": {},
   "outputs": [
    {
     "name": "stdout",
     "output_type": "stream",
     "text": [
      "{'pet_name': 'charlie', 'animal': 'dog', 'owner': 'john'}\n",
      "{'pet_name': 'toby', 'animal': 'cat', 'owner': 'kate'}\n",
      "{'pet_name': 'oreo', 'animal': 'rabbit', 'owner': 'mark'}\n"
     ]
    }
   ],
   "source": [
    "for i in pets:\n",
    "    print(i)"
   ]
  },
  {
   "cell_type": "code",
   "execution_count": null,
   "metadata": {},
   "outputs": [],
   "source": []
  }
 ],
 "metadata": {
  "kernelspec": {
   "display_name": "Python 3",
   "language": "python",
   "name": "python3"
  },
  "language_info": {
   "codemirror_mode": {
    "name": "ipython",
    "version": 3
   },
   "file_extension": ".py",
   "mimetype": "text/x-python",
   "name": "python",
   "nbconvert_exporter": "python",
   "pygments_lexer": "ipython3",
   "version": "3.7.3"
  }
 },
 "nbformat": 4,
 "nbformat_minor": 2
}
